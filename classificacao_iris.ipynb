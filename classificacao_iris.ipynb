{
 "cells": [
  {
   "attachments": {},
   "cell_type": "markdown",
   "metadata": {},
   "source": [
    "# Classificação de tipos de Íris\n",
    "\n",
    "<img src=\"imagens/1.png\" alt= “1” height=\"600\">\n",
    "\n",
    "\n",
    "<img src=\"imagens/2.png\" alt= “2” height=\"300\">\n"
   ]
  },
  {
   "attachments": {},
   "cell_type": "markdown",
   "metadata": {},
   "source": [
    "### Carregar Dataset:"
   ]
  },
  {
   "cell_type": "code",
   "execution_count": null,
   "metadata": {},
   "outputs": [],
   "source": [
    "import pandas as pd\n",
    "data = pd.read_csv(\"iris.csv\")\n",
    "\n",
    "# import io\n",
    "# from google.colab import files\n",
    "\n",
    "# uploaded = files.upload()\n",
    "# file = io.BytesIO(uploaded['iris.csv'])\n",
    "# data = pd.read_csv(file)\n",
    "\n",
    "data.head()"
   ]
  },
  {
   "attachments": {},
   "cell_type": "markdown",
   "metadata": {},
   "source": [
    "### Análise dos vetores de características:"
   ]
  },
  {
   "cell_type": "code",
   "execution_count": null,
   "metadata": {},
   "outputs": [],
   "source": [
    "import matplotlib.pyplot as plt\n",
    "import seaborn as sns\n",
    "\n",
    "plt.figure(figsize=(12,4))\n",
    "\n",
    "plt.subplot(1,2,1)\n",
    "sns.scatterplot(\n",
    "  data = data,\n",
    "  x = \"petal length (cm)\",\n",
    "  y = \"petal width (cm)\",\n",
    "  hue = \"target\")\n",
    "plt.title(\"Comprimento x Largura da Pétala\")\n",
    "plt.xlabel(\"Largura\")\n",
    "plt.ylabel(\"Comprimento\")\n",
    "\n",
    "plt.subplot(1,2,2)\n",
    "sns.scatterplot(\n",
    "  data = data,\n",
    "  x = \"sepal length (cm)\",\n",
    "  y = \"sepal width (cm)\",\n",
    "  hue = \"target\")\n",
    "plt.title(\"Comprimento x Largura da Sépala\")\n",
    "plt.xlabel(\"Largura\")\n",
    "plt.ylabel(\"Comprimento\")\n",
    "\n",
    "plt.show()"
   ]
  },
  {
   "attachments": {},
   "cell_type": "markdown",
   "metadata": {},
   "source": [
    "### Preparação dos dados para Treinamento:"
   ]
  },
  {
   "cell_type": "code",
   "execution_count": null,
   "metadata": {},
   "outputs": [],
   "source": [
    "import numpy as np\n",
    "\n",
    "fv = np.array(\n",
    "    data.loc[:,[\"sepal length (cm)\", \"sepal width (cm)\", \"petal length (cm)\", \"petal width (cm)\"]])\n",
    "\n",
    "labels = np.array(\n",
    "    data['target'])\n",
    "\n",
    "from sklearn.model_selection import train_test_split\n",
    "\n",
    "fv_train, fv_test, labels_train, labels_test = train_test_split(fv, labels, test_size=0.2, random_state = 0)\n"
   ]
  },
  {
   "attachments": {},
   "cell_type": "markdown",
   "metadata": {},
   "source": [
    "### Treinando modelos:"
   ]
  },
  {
   "cell_type": "code",
   "execution_count": null,
   "metadata": {},
   "outputs": [],
   "source": [
    "from sklearn.neighbors import KNeighborsClassifier\n",
    "from sklearn.tree import DecisionTreeClassifier\n",
    "from sklearn.ensemble import RandomForestClassifier\n",
    "\n",
    "# Modelo usando algoritimo: K-Nearest Neighbours\n",
    "knn = KNeighborsClassifier()\n",
    "knn.fit(fv_train, labels_train)\n",
    "\n",
    "# Modelo usando algoritimo: Decision Tree\n",
    "tree = DecisionTreeClassifier()\n",
    "tree.fit(fv_train, labels_train)\n",
    "\n",
    "# Modelo usando algoritimo: Random Forest\n",
    "rf = RandomForestClassifier()\n",
    "rf.fit(fv_train, labels_train)"
   ]
  },
  {
   "attachments": {},
   "cell_type": "markdown",
   "metadata": {},
   "source": [
    "### Testando e Avaliando modelos:"
   ]
  },
  {
   "cell_type": "code",
   "execution_count": null,
   "metadata": {},
   "outputs": [],
   "source": [
    "from sklearn.metrics import accuracy_score\n",
    "\n",
    "knn_predict = knn.predict(fv_test)\n",
    "knn_score = accuracy_score(labels_test, knn_predict)\n",
    "print(f\"Pontuação de precisão KNN: {knn_score}\")\n",
    "\n",
    "tree_predict = tree.predict(fv_test)\n",
    "tree_score = accuracy_score(labels_test, tree_predict)\n",
    "print(f\"Pontuação de precisão Decision Tree: {tree_score}\")\n",
    "\n",
    "rf_predict = rf.predict(fv_test)\n",
    "rf_score = accuracy_score(labels_test, rf_predict)\n",
    "print(f\"Pontuação de precisão Random Forest: {rf_score}\")"
   ]
  }
 ],
 "metadata": {
  "kernelspec": {
   "display_name": "Python 3",
   "language": "python",
   "name": "python3"
  },
  "language_info": {
   "codemirror_mode": {
    "name": "ipython",
    "version": 3
   },
   "file_extension": ".py",
   "mimetype": "text/x-python",
   "name": "python",
   "nbconvert_exporter": "python",
   "pygments_lexer": "ipython3",
   "version": "3.10.1"
  },
  "orig_nbformat": 4,
  "vscode": {
   "interpreter": {
    "hash": "369f2c481f4da34e4445cda3fffd2e751bd1c4d706f27375911949ba6bb62e1c"
   }
  }
 },
 "nbformat": 4,
 "nbformat_minor": 2
}
